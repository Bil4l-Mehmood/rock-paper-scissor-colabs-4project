{
  "nbformat": 4,
  "nbformat_minor": 0,
  "metadata": {
    "colab": {
      "provenance": []
    },
    "kernelspec": {
      "name": "python3",
      "display_name": "Python 3"
    },
    "language_info": {
      "name": "python"
    }
  },
  "cells": [
    {
      "cell_type": "markdown",
      "source": [
        "# **Projects to be submitted by Students**"
      ],
      "metadata": {
        "id": "6kTe7KTwNWC6"
      }
    },
    {
      "cell_type": "markdown",
      "source": [
        "**Project 4: Rock, Paper, Scissors**"
      ],
      "metadata": {
        "id": "cWFjAPUuNfmh"
      }
    },
    {
      "cell_type": "code",
      "execution_count": null,
      "metadata": {
        "colab": {
          "base_uri": "https://localhost:8080/"
        },
        "id": "FVj2sI7bNLRB",
        "outputId": "0148a1fb-a8af-4557-97ef-f725ccf92efb"
      },
      "outputs": [
        {
          "output_type": "stream",
          "name": "stdout",
          "text": [
            "What's your choice? 'r' for rock, 'p' for paper, 's' for scissors\n",
            "p\n",
            "You won!\n"
          ]
        }
      ],
      "source": [
        "import random\n",
        "\n",
        "def play():\n",
        "    user = input(\"What's your choice? 'r' for rock, 'p' for paper, 's' for scissors\\n\")\n",
        "    computer = random.choice(['r', 'p', 's'])\n",
        "\n",
        "    if user == computer:\n",
        "        return'It\\'s a tie'\n",
        "\n",
        "    # r > s, s > p, p > r\n",
        "    if is_win(user, computer):\n",
        "        return 'You won!'\n",
        "\n",
        "    return 'You lost!'\n",
        "\n",
        "def is_win(player, opponent):\n",
        "  # return true if player wins\n",
        "  # r > s, s > p, p > r\n",
        "  if (player == 'r' and opponent == 's') or (player == 's' and opponent == 'p') \\\n",
        "   or (player == 'p' and opponent == 'r'):\n",
        "    return True\n",
        "\n",
        "print(play())"
      ]
    }
  ]
}